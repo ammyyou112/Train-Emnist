{
 "cells": [
  {
   "cell_type": "code",
   "execution_count": 7,
   "id": "a12105a5",
   "metadata": {},
   "outputs": [],
   "source": [
    "import tensorflow as tf\n",
    "from tensorflow.keras.datasets import mnist\n",
    "from tensorflow.keras.models import Model\n",
    "from tensorflow.keras.layers import Dense, Flatten\n",
    "from tensorflow.keras.optimizers import Adam"
   ]
  },
  {
   "cell_type": "code",
   "execution_count": 8,
   "id": "ac8531e1",
   "metadata": {},
   "outputs": [],
   "source": [
    "emnist_labels = [chr(i) for i in range(65, 91)] + [str(i) for i in range(10)]"
   ]
  },
  {
   "cell_type": "code",
   "execution_count": 9,
   "id": "f1c7fa53",
   "metadata": {},
   "outputs": [],
   "source": [
    "#load the pretrained model\n",
    "mnist_model = tf.keras.models.load_model('mnist_model.h5')\n",
    "mnist_weights = mnist_model.get_weights()"
   ]
  },
  {
   "cell_type": "code",
   "execution_count": 12,
   "id": "6e845fcb",
   "metadata": {},
   "outputs": [],
   "source": [
    "emnist_output_shape = len(emnist_labels)\n",
    "mnist_model.layers.pop()\n",
    "mnist_model.add(Dense(emnist_output_shape, activation='softmax', name='emnist_dense'))"
   ]
  },
  {
   "cell_type": "code",
   "execution_count": 14,
   "id": "a3e09bbf",
   "metadata": {},
   "outputs": [],
   "source": [
    "for layer in mnist_model.layers[:-1]:\n",
    "    layer.trainable = False"
   ]
  },
  {
   "cell_type": "code",
   "execution_count": 15,
   "id": "d4eb034c",
   "metadata": {},
   "outputs": [],
   "source": [
    "(x_train, y_train), (x_test, y_test) = mnist.load_data()\n",
    "x_train = x_train.reshape(x_train.shape[0], 28, 28, 1).astype('float32') / 255.\n",
    "x_test = x_test.reshape(x_test.shape[0], 28, 28, 1).astype('float32') / 255.\n",
    "y_train = tf.keras.utils.to_categorical(y_train, len(emnist_labels))\n",
    "y_test = tf.keras.utils.to_categorical(y_test, len(emnist_labels))"
   ]
  },
  {
   "cell_type": "code",
   "execution_count": 18,
   "id": "7e82ba3a",
   "metadata": {},
   "outputs": [
    {
     "name": "stdout",
     "output_type": "stream",
     "text": [
      "Epoch 1/10\n",
      "469/469 [==============================] - 14s 28ms/step - loss: 2.7617 - accuracy: 0.8352 - val_loss: 2.1290 - val_accuracy: 0.9909\n",
      "Epoch 2/10\n",
      "469/469 [==============================] - 13s 27ms/step - loss: 1.6262 - accuracy: 0.9973 - val_loss: 1.2101 - val_accuracy: 0.9909\n",
      "Epoch 3/10\n",
      "469/469 [==============================] - 12s 25ms/step - loss: 0.9063 - accuracy: 0.9973 - val_loss: 0.6828 - val_accuracy: 0.9912\n",
      "Epoch 4/10\n",
      "469/469 [==============================] - 12s 25ms/step - loss: 0.5163 - accuracy: 0.9973 - val_loss: 0.4114 - val_accuracy: 0.9912\n",
      "Epoch 5/10\n",
      "469/469 [==============================] - 11s 24ms/step - loss: 0.3153 - accuracy: 0.9973 - val_loss: 0.2698 - val_accuracy: 0.9912\n",
      "Epoch 6/10\n",
      "469/469 [==============================] - 13s 29ms/step - loss: 0.2069 - accuracy: 0.9973 - val_loss: 0.1908 - val_accuracy: 0.9911\n",
      "Epoch 7/10\n",
      "469/469 [==============================] - 16s 35ms/step - loss: 0.1440 - accuracy: 0.9973 - val_loss: 0.1434 - val_accuracy: 0.9911\n",
      "Epoch 8/10\n",
      "469/469 [==============================] - 11s 23ms/step - loss: 0.1048 - accuracy: 0.9973 - val_loss: 0.1133 - val_accuracy: 0.9911\n",
      "Epoch 9/10\n",
      "469/469 [==============================] - 13s 27ms/step - loss: 0.0791 - accuracy: 0.9973 - val_loss: 0.0933 - val_accuracy: 0.9911\n",
      "Epoch 10/10\n",
      "469/469 [==============================] - 11s 24ms/step - loss: 0.0614 - accuracy: 0.9973 - val_loss: 0.0796 - val_accuracy: 0.9911\n"
     ]
    }
   ],
   "source": [
    "mnist_model.compile(loss='categorical_crossentropy', optimizer=Adam(), metrics=['accuracy'])\n",
    "history = mnist_model.fit(x_train, y_train, batch_size=128, epochs=10, validation_data=(x_test, y_test))"
   ]
  },
  {
   "cell_type": "code",
   "execution_count": 19,
   "id": "329308a0",
   "metadata": {},
   "outputs": [
    {
     "name": "stdout",
     "output_type": "stream",
     "text": [
      "Test Loss: 0.07964207977056503\n",
      "Test Accuracy: 0.991100013256073\n"
     ]
    }
   ],
   "source": [
    "score = mnist_model.evaluate(x_test, y_test, verbose=0)\n",
    "print('Test Loss:', score[0])\n",
    "print('Test Accuracy:', score[1])"
   ]
  },
  {
   "cell_type": "code",
   "execution_count": null,
   "id": "bb8b1367",
   "metadata": {},
   "outputs": [],
   "source": []
  }
 ],
 "metadata": {
  "kernelspec": {
   "display_name": "Python 3 (ipykernel)",
   "language": "python",
   "name": "python3"
  },
  "language_info": {
   "codemirror_mode": {
    "name": "ipython",
    "version": 3
   },
   "file_extension": ".py",
   "mimetype": "text/x-python",
   "name": "python",
   "nbconvert_exporter": "python",
   "pygments_lexer": "ipython3",
   "version": "3.9.13"
  }
 },
 "nbformat": 4,
 "nbformat_minor": 5
}
